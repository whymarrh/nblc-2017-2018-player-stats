{
 "cells": [
  {
   "cell_type": "markdown",
   "metadata": {},
   "source": [
    "# NBL Canada 2017-2018 Player Stats"
   ]
  },
  {
   "cell_type": "markdown",
   "metadata": {},
   "source": [
    "Let's take a look at player stats over the season—we'll pick a player and chart their numbers for all of the games they've played in 2017-2018.\n",
    "\n",
    "We're using [Python 3](https://docs.python.org/3/) with a few dependencies:\n",
    "\n",
    "- [`requests`](http://docs.python-requests.org/) is used to make HTTP requests\n",
    "- [`bs4`](https://www.crummy.com/software/BeautifulSoup/bs4/doc/) (Beautiful Soup 4) is used to parse HTML\n",
    "\n",
    "And first thing out of the gate we'll need to import those:"
   ]
  },
  {
   "cell_type": "code",
   "execution_count": 1,
   "metadata": {},
   "outputs": [],
   "source": [
    "import requests\n",
    "from bs4 import BeautifulSoup"
   ]
  },
  {
   "cell_type": "markdown",
   "metadata": {},
   "source": [
    "And a few [standard library](https://docs.python.org/3/library/) dependencies:"
   ]
  },
  {
   "cell_type": "code",
   "execution_count": 2,
   "metadata": {},
   "outputs": [],
   "source": [
    "import itertools"
   ]
  },
  {
   "cell_type": "markdown",
   "metadata": {},
   "source": [
    "## Team Calendar"
   ]
  },
  {
   "cell_type": "markdown",
   "metadata": {},
   "source": [
    "[The NBL Canada website](http://nblcanada.ca) has two formats for its calendar, one is a month view, the other is a day view. We'll use the month view here to lower the number of requests we need to make to get all of the games in the season (that is, one request for each month of the season instead of one for each day). The monthly calendar (shown below) shows each of the events on that day with a Box Score link.\n",
    "\n",
    "![November 2017 NBLC Schedule](./nblcanada.ca_composite_y_2017_m_11.png)"
   ]
  },
  {
   "cell_type": "markdown",
   "metadata": {},
   "source": [
    "The URL structure for the calendar has `year` and `month` query parameters:\n",
    "\n",
    "    http://nblcanada.ca/composite?y=2017&m=11"
   ]
  },
  {
   "cell_type": "markdown",
   "metadata": {},
   "source": [
    "Inspecting the page, the markup for a single event (a few attributes removed for brevity):\n",
    "\n",
    "```html\n",
    "<div class=\"cal-event\">\n",
    "    <div class=\"cal-sport\">\n",
    "        <a href=\"/sports/mbkb/2017-18/schedule\">Men's Basketball</a>\n",
    "    </div>\n",
    "    <div class=\"teams\">\n",
    "        <div class=\"team-name\">St. John's Edge</div>\n",
    "        <div class=\"team-name\"> <span class=\"va\">at</span> Island Storm</div>\n",
    "    </div>\n",
    "    <div class=\"cal-status\">Final</div>\n",
    "    <a href=\"/sports/mbkb/2017-18/boxscores/20171118_by41.xml\" class=\"cal-result\">97 - 96</a>\n",
    "    <div class=\"cal-links\">\n",
    "        <a href=\"/sports/mbkb/2017-18/boxscores/20171118_by41.xml\" title=\"Box Score\">BX</a>\n",
    "    </div>\n",
    "</div>\n",
    "```"
   ]
  },
  {
   "cell_type": "markdown",
   "metadata": {},
   "source": [
    "To get a list of all the events played this season we will iterate over all of the months, format a link to the calendar for that month, and append it to a running list of all the calendar links:"
   ]
  },
  {
   "cell_type": "code",
   "execution_count": 3,
   "metadata": {},
   "outputs": [],
   "source": [
    "calendar_links = []\n",
    "for month in range(11, 13):\n",
    "    calendar_links.append(\n",
    "        \"http://nblcanada.ca/composite?y={year}&m={month:02d}\".format(year = \"2017\", month = month))\n",
    "for month in range( 1,  7):\n",
    "    calendar_links.append(\n",
    "        \"http://nblcanada.ca/composite?y={year}&m={month:02d}\".format(year = \"2018\", month = month))"
   ]
  },
  {
   "cell_type": "markdown",
   "metadata": {},
   "source": [
    "Alright, now we have a list of all the calendars:"
   ]
  },
  {
   "cell_type": "code",
   "execution_count": 4,
   "metadata": {},
   "outputs": [
    {
     "data": {
      "text/plain": [
       "['http://nblcanada.ca/composite?y=2017&m=11',\n",
       " 'http://nblcanada.ca/composite?y=2017&m=12',\n",
       " 'http://nblcanada.ca/composite?y=2018&m=01',\n",
       " 'http://nblcanada.ca/composite?y=2018&m=02',\n",
       " 'http://nblcanada.ca/composite?y=2018&m=03',\n",
       " 'http://nblcanada.ca/composite?y=2018&m=04',\n",
       " 'http://nblcanada.ca/composite?y=2018&m=05',\n",
       " 'http://nblcanada.ca/composite?y=2018&m=06']"
      ]
     },
     "execution_count": 4,
     "metadata": {},
     "output_type": "execute_result"
    }
   ],
   "source": [
    "calendar_links"
   ]
  },
  {
   "cell_type": "markdown",
   "metadata": {},
   "source": [
    "Before we go any futher, let's pick a team:"
   ]
  },
  {
   "cell_type": "code",
   "execution_count": 5,
   "metadata": {},
   "outputs": [],
   "source": [
    "team_name = \"St. John's Edge\""
   ]
  },
  {
   "cell_type": "markdown",
   "metadata": {},
   "source": [
    "Additionally, if you want to look at just $x$ games, we can set a `total_game_count` to that value (or `None` if we want to look at everything):"
   ]
  },
  {
   "cell_type": "code",
   "execution_count": 6,
   "metadata": {},
   "outputs": [],
   "source": [
    "total_game_count = 45 # The St. John's Edge played 45 regular season games"
   ]
  },
  {
   "cell_type": "markdown",
   "metadata": {},
   "source": [
    "Let's map each of those links to the HTML for the calendar and then to the list of all of the events on the calendar for our team:"
   ]
  },
  {
   "cell_type": "code",
   "execution_count": 7,
   "metadata": {},
   "outputs": [],
   "source": [
    "events = []\n",
    "for calendar_link in calendar_links:\n",
    "    calendar_html = BeautifulSoup(requests.get(calendar_link).text, \"html.parser\")\n",
    "    events.append(calendar_html.select(\".cal-event\"))\n",
    "# Hand-wavy bit, we'll need to \"flatten\" the list\n",
    "events = list(itertools.chain(*events))"
   ]
  },
  {
   "cell_type": "code",
   "execution_count": 8,
   "metadata": {},
   "outputs": [],
   "source": [
    "our_events = []\n",
    "for event in events:\n",
    "    away_team, home_team = map(\n",
    "        # The home team has a \"at\" prefix which adds whitespace, so we'll use .stripped_strings and have to\n",
    "        # index into the list of children: [\"at\", \"team name\"]\n",
    "        lambda e: e.string if e.string else list(e.stripped_strings)[1],\n",
    "        event.select(\".team-name\"))\n",
    "    if home_team == team_name or away_team == team_name:\n",
    "        our_events.append(event)"
   ]
  },
  {
   "cell_type": "markdown",
   "metadata": {},
   "source": [
    "With the list of all our events in hand (in `our_events`) we can pick out the \"Box Score\" link for each event and append them to a running list of all the box score links:"
   ]
  },
  {
   "cell_type": "code",
   "execution_count": 9,
   "metadata": {},
   "outputs": [],
   "source": [
    "our_box_score_links = []\n",
    "for event in our_events:\n",
    "    box_score_links = event.select(\"a[title='Box Score']\")\n",
    "    if not box_score_links:\n",
    "        # We've discovered a live or upcoming game\n",
    "        continue\n",
    "    box_score_link, = box_score_links\n",
    "    our_box_score_links.append(box_score_link.attrs.get(\"href\"))"
   ]
  },
  {
   "cell_type": "markdown",
   "metadata": {},
   "source": [
    "The way the links work in the HTML, we have a relative path to the file, not the whole URL. Let's take a peek at the first link to get an idea of what we're working with:"
   ]
  },
  {
   "cell_type": "code",
   "execution_count": 10,
   "metadata": {},
   "outputs": [
    {
     "data": {
      "text/plain": [
       "'/sports/mbkb/2017-18/boxscores/20171118_by41.xml'"
      ]
     },
     "execution_count": 10,
     "metadata": {},
     "output_type": "execute_result"
    }
   ],
   "source": [
    "our_box_score_links[0]"
   ]
  },
  {
   "cell_type": "markdown",
   "metadata": {},
   "source": [
    "We'll need to format the links to get a complete URL. Let's write a function to do that:"
   ]
  },
  {
   "cell_type": "code",
   "execution_count": 11,
   "metadata": {},
   "outputs": [],
   "source": [
    "def format_box_score_link(link):\n",
    "    return \"http://nblcanada.ca\" + link"
   ]
  },
  {
   "cell_type": "markdown",
   "metadata": {},
   "source": [
    "Let's take a look at the complete list formatted:"
   ]
  },
  {
   "cell_type": "code",
   "execution_count": 12,
   "metadata": {},
   "outputs": [
    {
     "name": "stdout",
     "output_type": "stream",
     "text": [
      "http://nblcanada.ca/sports/mbkb/2017-18/boxscores/20171118_by41.xml\n",
      "http://nblcanada.ca/sports/mbkb/2017-18/boxscores/20171119_ktrq.xml\n",
      "http://nblcanada.ca/sports/mbkb/2017-18/boxscores/20171121_c5zt.xml\n",
      "http://nblcanada.ca/sports/mbkb/2017-18/boxscores/20171122_28lb.xml\n",
      "http://nblcanada.ca/sports/mbkb/2017-18/boxscores/20171124_j0ft.xml\n",
      "http://nblcanada.ca/sports/mbkb/2017-18/boxscores/20171201_1j6s.xml\n",
      "http://nblcanada.ca/sports/mbkb/2017-18/boxscores/20171202_mamv.xml\n",
      "http://nblcanada.ca/sports/mbkb/2017-18/boxscores/20171201_1j6s.xml\n",
      "http://nblcanada.ca/sports/mbkb/2017-18/boxscores/20171202_mamv.xml\n",
      "http://nblcanada.ca/sports/mbkb/2017-18/boxscores/20171205_l26a.xml\n",
      "http://nblcanada.ca/sports/mbkb/2017-18/boxscores/20171206_yxks.xml\n",
      "http://nblcanada.ca/sports/mbkb/2017-18/boxscores/20171213_lto8.xml\n",
      "http://nblcanada.ca/sports/mbkb/2017-18/boxscores/20171215_crx9.xml\n",
      "http://nblcanada.ca/sports/mbkb/2017-18/boxscores/20171217_vlts.xml\n",
      "http://nblcanada.ca/sports/mbkb/2017-18/boxscores/20180109_3isi.xml\n",
      "http://nblcanada.ca/sports/mbkb/2017-18/boxscores/20180110_cmmb.xml\n",
      "http://nblcanada.ca/sports/mbkb/2017-18/boxscores/20180112_llg6.xml\n",
      "http://nblcanada.ca/sports/mbkb/2017-18/boxscores/20180113_mjx3.xml\n",
      "http://nblcanada.ca/sports/mbkb/2017-18/boxscores/20180116_hdfa.xml\n",
      "http://nblcanada.ca/sports/mbkb/2017-18/boxscores/20180117_mvju.xml\n",
      "http://nblcanada.ca/sports/mbkb/2017-18/boxscores/20180119_8ryn.xml\n",
      "http://nblcanada.ca/sports/mbkb/2017-18/boxscores/20180120_ctmq.xml\n",
      "http://nblcanada.ca/sports/mbkb/2017-18/boxscores/20180121_5knv.xml\n",
      "http://nblcanada.ca/sports/mbkb/2017-18/boxscores/20180202_2gug.xml\n",
      "http://nblcanada.ca/sports/mbkb/2017-18/boxscores/20180203_ybph.xml\n",
      "http://nblcanada.ca/sports/mbkb/2017-18/boxscores/20180202_2gug.xml\n",
      "http://nblcanada.ca/sports/mbkb/2017-18/boxscores/20180203_ybph.xml\n",
      "http://nblcanada.ca/sports/mbkb/2017-18/boxscores/20180206_d3rp.xml\n",
      "http://nblcanada.ca/sports/mbkb/2017-18/boxscores/20180207_hx7n.xml\n",
      "http://nblcanada.ca/sports/mbkb/2017-18/boxscores/20180215_qill.xml\n",
      "http://nblcanada.ca/sports/mbkb/2017-18/boxscores/20180217_axyd.xml\n",
      "http://nblcanada.ca/sports/mbkb/2017-18/boxscores/20180219_a79n.xml\n",
      "http://nblcanada.ca/sports/mbkb/2017-18/boxscores/20180221_ae4e.xml\n",
      "http://nblcanada.ca/sports/mbkb/2017-18/boxscores/20180302_v3sg.xml\n",
      "http://nblcanada.ca/sports/mbkb/2017-18/boxscores/20180303_t2bc.xml\n",
      "http://nblcanada.ca/sports/mbkb/2017-18/boxscores/20180302_v3sg.xml\n",
      "http://nblcanada.ca/sports/mbkb/2017-18/boxscores/20180303_t2bc.xml\n",
      "http://nblcanada.ca/sports/mbkb/2017-18/boxscores/20180306_n7gn.xml\n",
      "http://nblcanada.ca/sports/mbkb/2017-18/boxscores/20180307_hkll.xml\n",
      "http://nblcanada.ca/sports/mbkb/2017-18/boxscores/20180310_gsnh.xml\n",
      "http://nblcanada.ca/sports/mbkb/2017-18/boxscores/20180311_eszh.xml\n",
      "http://nblcanada.ca/sports/mbkb/2017-18/boxscores/20180317_9bff.xml\n",
      "http://nblcanada.ca/sports/mbkb/2017-18/boxscores/20180321_hu35.xml\n",
      "http://nblcanada.ca/sports/mbkb/2017-18/boxscores/20180322_8ngy.xml\n",
      "http://nblcanada.ca/sports/mbkb/2017-18/boxscores/20180331_2y7t.xml\n",
      "http://nblcanada.ca/sports/mbkb/2017-18/boxscores/20180402_wffm.xml\n",
      "http://nblcanada.ca/sports/mbkb/2017-18/boxscores/20180406_hwxb.xml\n",
      "http://nblcanada.ca/sports/mbkb/2017-18/boxscores/20180408_td9o.xml\n",
      "http://nblcanada.ca/sports/mbkb/2017-18/boxscores/20180411_943c.xml\n",
      "http://nblcanada.ca/sports/mbkb/2017-18/boxscores/20180417_5ts6.xml\n",
      "http://nblcanada.ca/sports/mbkb/2017-18/boxscores/20180419_cw2b.xml\n"
     ]
    }
   ],
   "source": [
    "for box_score_link in our_box_score_links:\n",
    "    print(format_box_score_link(box_score_link))"
   ]
  },
  {
   "cell_type": "markdown",
   "metadata": {},
   "source": [
    "Alrighty, let's take a look at the box scores for our games. We will need to iterate over each of the links above and request the HTML for the page.\n",
    "\n",
    "If you have a keen eye, you'll notice that there are duplicates in the list. That's due to overlap in, for example, the November calendar and the December calendar, where we'll have games showing up on both. Let's format the links **and deduplicate** while iterating. Here we're using [`dict.fromkeys`](https://docs.python.org/3/library/stdtypes.html#dict.fromkeys) to construct an ordered set (in the mathemtatical sense) of all the links:"
   ]
  },
  {
   "cell_type": "code",
   "execution_count": 13,
   "metadata": {},
   "outputs": [],
   "source": [
    "box_scores = []\n",
    "for box_score_link in map(format_box_score_link, dict.fromkeys(our_box_score_links).keys()):\n",
    "    box_scores.append(requests.get(box_score_link).text)"
   ]
  },
  {
   "cell_type": "markdown",
   "metadata": {},
   "source": [
    "## Box Scores"
   ]
  },
  {
   "cell_type": "markdown",
   "metadata": {},
   "source": [
    "The Box Score page (example shown below) displays the stats for a game along with the game information. The table containing the player stats unfortunately doesn't contain percentages so will be doing a bit of text parsing once we get to that (spoliers!).\n",
    "\n",
    "![Niagara River Lions at St. John's Edge Box Score](./nblcanada.ca_sports_mbkb_2017-18_boxscores_20180402_wffm.xml.png)"
   ]
  },
  {
   "cell_type": "markdown",
   "metadata": {},
   "source": [
    "Inspecing the page, the table for the two teams are separate in the markup (thankfully!) and each have a `caption` with the team name:\n",
    "\n",
    "```html\n",
    "<table>\n",
    "    <caption class=\"caption\">\n",
    "        <h2><span class=\"team-name\">Niagara River Lions</span></h2>\n",
    "    </caption>\n",
    "    <thead>\n",
    "        <tr>\n",
    "            <th scope=\"col\" class=\"col-head pinned-col text\">Player</th>\n",
    "            <th scope=\"col\" class=\"col-head\">MIN</th>\n",
    "            <th scope=\"col\" class=\"col-head\">FGM-A</th>\n",
    "            <th scope=\"col\" class=\"col-head\">3PM-A</th>\n",
    "            <th scope=\"col\" class=\"col-head\">FTM-A</th>\n",
    "            <th scope=\"col\" class=\"col-head\">OREB</th>\n",
    "            <th scope=\"col\" class=\"col-head\">DREB</th>\n",
    "            <th scope=\"col\" class=\"col-head\">REB</th>\n",
    "            <th scope=\"col\" class=\"col-head\">AST</th>\n",
    "            <th scope=\"col\" class=\"col-head\">STL</th>\n",
    "            <th scope=\"col\" class=\"col-head\">BLK</th>\n",
    "            <th scope=\"col\" class=\"col-head\">TO</th>\n",
    "            <th scope=\"col\" class=\"col-head\">PF</th>\n",
    "            <th scope=\"col\" class=\"col-head\">PTS</th>\n",
    "        </tr>\n",
    "    </thead>\n",
    "    <tbody>\n",
    "        <tr class=\"group-head\">\n",
    "            <th scope=\"rowgroup\" class=\"row-head pinned-col text\"><strong>STARTERS</strong></th>\n",
    "            <td colspan=\"13\">&nbsp;</td>\n",
    "        </tr>\n",
    "        <tr>\n",
    "            <th scope=\"row\" class=\"row-head pinned-col text\">\n",
    "                <span class=\"uniform\">0 - </span>\n",
    "                <a href=\"../players?id=3t3p5fmhkhk7qgu2\" class=\"player-name\">Jaylon Tate</a>\n",
    "            </th>\n",
    "            <td>34</td>\n",
    "            <td>1-5</td>\n",
    "            <td>0-1</td>\n",
    "            <td>1-2</td>\n",
    "            <td>0</td>\n",
    "            <td>2</td>\n",
    "            <td>2</td>\n",
    "            <td>4</td>\n",
    "            <td>0</td>\n",
    "            <td>0</td>\n",
    "            <td>0</td>\n",
    "            <td>1</td>\n",
    "            <td>3</td>\n",
    "        </tr>\n",
    "        <!-- And so on, repeated for each starter -->\n",
    "    </tbody>\n",
    "    <tbody>\n",
    "        <tr class=\"group-head\">\n",
    "            <th scope=\"rowgroup\" class=\"row-head pinned-col text\"><strong>RESERVES</strong></th>\n",
    "            <td colspan=\"13\">&nbsp;</td>\n",
    "        </tr>\n",
    "        <tr>\n",
    "            <th scope=\"row\" class=\"row-head pinned-col text\">\n",
    "                <span class=\"uniform\">2 - </span>\n",
    "                <a href=\"../players?id=gt2kpg91kerqhajg\" class=\"player-name\">Joe Rocca</a>\n",
    "            </th>\n",
    "            <td>3</td>\n",
    "            <td> 0-1\n",
    "            </td>\n",
    "            <td> 0-1\n",
    "            </td>\n",
    "            <td> 0-0\n",
    "            </td>\n",
    "            <td>1</td>\n",
    "            <td>1</td>\n",
    "            <td>2</td>\n",
    "            <td>0</td>\n",
    "            <td>0</td>\n",
    "            <td>0</td>\n",
    "            <td>0</td>\n",
    "            <td>1</td>\n",
    "            <td> 0\n",
    "            </td>\n",
    "        </tr>\n",
    "        <!-- And so on, repeated for each reserve -->\n",
    "    </tbody>\n",
    "    <tbody>\n",
    "        <tr class=\"totals\">\n",
    "            <th scope=\"rowgroup\" class=\"row-head pinned-col text\">TOTALS</th>\n",
    "            <td>&nbsp;</td>\n",
    "            <td> 35-83\n",
    "            </td>\n",
    "            <td> 8-29\n",
    "            </td>\n",
    "            <td> 21-29\n",
    "            </td>\n",
    "            <td>11</td>\n",
    "            <td>31</td>\n",
    "            <td>42</td>\n",
    "            <td>14</td>\n",
    "            <td>6</td>\n",
    "            <td>6</td>\n",
    "            <td>6</td>\n",
    "            <td>22</td>\n",
    "            <td> 99\n",
    "            </td>\n",
    "        </tr>\n",
    "        <tr class=\"totals\">\n",
    "            <td class=\"pinned-col\">&nbsp;</td>\n",
    "            <td>&nbsp;</td>\n",
    "            <td> 42.2%\n",
    "            </td>\n",
    "            <td> 27.6%\n",
    "            </td>\n",
    "            <td> 72.4%\n",
    "            </td>\n",
    "            <td colspan=\"9\">&nbsp;</td>\n",
    "        </tr>\n",
    "    </tbody>\n",
    "</table>\n",
    "```"
   ]
  },
  {
   "cell_type": "markdown",
   "metadata": {},
   "source": [
    "To get our bearings, let's take a look at the first game we've played before trying to parse *all* of the games at once. (It might help to open up the box score for the first game in your browser to double-check the results.)"
   ]
  },
  {
   "cell_type": "code",
   "execution_count": 14,
   "metadata": {},
   "outputs": [],
   "source": [
    "first_box_score = box_scores[0]"
   ]
  },
  {
   "cell_type": "markdown",
   "metadata": {},
   "source": [
    "As both teams have their stats on the same page, we will only need to look at the first table (the outer [`next`](https://docs.python.org/3/library/functions.html#next) call) that has the correct team name (the outer [`filter`](https://docs.python.org/3/library/functions.html#filter) call):"
   ]
  },
  {
   "cell_type": "code",
   "execution_count": 15,
   "metadata": {},
   "outputs": [],
   "source": [
    "first_game_table = next(filter(\n",
    "    # The first table caption with the correct team name is the element we want\n",
    "    lambda table: next(iter(table.select(\"caption > h2 > .team-name\"))).string == team_name,\n",
    "    BeautifulSoup(first_box_score, \"html.parser\").select(\"div.stats-box table\")))"
   ]
  },
  {
   "cell_type": "markdown",
   "metadata": {},
   "source": [
    "## Parsing Box Scores\n",
    "\n",
    "With our hands on the first game table, we need to parse out the HTML (shown above) into something useful. The goal of this whole exercise is to be able to look at stats for individual players, so let's construct a list of dictionaries with player names as keys and their stats as values.\n",
    "\n",
    "The following two functions parse the table HTML into the desired structure:"
   ]
  },
  {
   "cell_type": "code",
   "execution_count": 16,
   "metadata": {},
   "outputs": [],
   "source": [
    "def cols_from_row(row):\n",
    "    \"\"\"Returns a list of column values in the given row.\"\"\"\n",
    "    cols = row.find_all(\"th\") + row.find_all(\"td\")\n",
    "    cols = [' '.join(list(ele.stripped_strings)) for ele in cols]\n",
    "    return cols\n",
    "\n",
    "def stats_from_table(table):\n",
    "    \"\"\"Returns a dictionary with player names as keys and their stats as values.\"\"\"\n",
    "    stats = {}\n",
    "    rows = table.find_all(\"tr\")\n",
    "    heading_row, *body_rows = rows\n",
    "    headings = cols_from_row(heading_row)\n",
    "    heading_count = len(headings)\n",
    "    for row in body_rows:\n",
    "        cols = cols_from_row(row)\n",
    "        if not len(cols) == heading_count:\n",
    "            continue\n",
    "        player, minutes, *rest = cols\n",
    "        if not minutes:\n",
    "            # The team totals doesn't have minutes\n",
    "            # And though this isn't an individual stat, we'll hold on to these numbers\n",
    "            stats[\"TEAM\"] = dict(zip(headings[2:], rest))\n",
    "            continue\n",
    "        player_stats = dict(zip(headings, cols))\n",
    "        # We don't need the player name in their stats too\n",
    "        player_stats.pop(\"Player\")\n",
    "        stats[player] = player_stats\n",
    "    return stats"
   ]
  },
  {
   "cell_type": "markdown",
   "metadata": {},
   "source": [
    "Uncomment this to see how the stats are structured:"
   ]
  },
  {
   "cell_type": "code",
   "execution_count": 17,
   "metadata": {},
   "outputs": [],
   "source": [
    "# stats_from_table(first_game_table)"
   ]
  },
  {
   "cell_type": "markdown",
   "metadata": {},
   "source": [
    "Having that working, we can iterate over all of the box scores and accumulate them into a single list of stats:\n",
    "\n",
    "Note: we're using `total_game_count` here (defined above) to limit the number of games if necessary."
   ]
  },
  {
   "cell_type": "code",
   "execution_count": 18,
   "metadata": {},
   "outputs": [],
   "source": [
    "all_game_stats = []\n",
    "for box_score in box_scores[:total_game_count]:\n",
    "    markup = BeautifulSoup(box_score, \"html.parser\")\n",
    "    game_title, game_date = list(\n",
    "        markup.select(\".game-boxscore h1:nth-of-type(1)\")[0].stripped_strings)\n",
    "    stats = stats_from_table(next(filter(\n",
    "        lambda table: next(iter(table.select(\"caption > h2 > .team-name\"))).string == team_name,\n",
    "        markup.select(\"div.stats-box table\"))))\n",
    "    all_game_stats.append({\n",
    "        \"game_date\": game_date,\n",
    "        \"game_title\": game_title,\n",
    "        \"stats\": stats,\n",
    "    })"
   ]
  },
  {
   "cell_type": "markdown",
   "metadata": {},
   "source": [
    "Uncomment this to peek inside the structure:"
   ]
  },
  {
   "cell_type": "code",
   "execution_count": 19,
   "metadata": {},
   "outputs": [],
   "source": [
    "# all_game_stats"
   ]
  },
  {
   "cell_type": "markdown",
   "metadata": {},
   "source": [
    "## Individual Player Stats\n",
    "\n",
    "Everything leading up to this section was getting our hands on the data in a usable form. Now for the fun bit:\n",
    "\n",
    "1. Pick a player (note the format)\n",
    "2. Turn just their data into a [`pandas.DataFrame`](https://pandas.pydata.org/pandas-docs/stable/generated/pandas.DataFrame.html)\n",
    "3. Compute additional stats that the NBL doesn't have on their site\n",
    "4. Plot stuff\n",
    "\n",
    "(If you're new to Pandas I'd recommend reading through [10 Minutes to pandas](https://pandas.pydata.org/pandas-docs/stable/10min.html).)"
   ]
  },
  {
   "cell_type": "code",
   "execution_count": 20,
   "metadata": {},
   "outputs": [],
   "source": [
    "player = \"3 - Alex Johnson\""
   ]
  },
  {
   "cell_type": "code",
   "execution_count": 21,
   "metadata": {},
   "outputs": [],
   "source": [
    "import pandas\n",
    "import seaborn"
   ]
  },
  {
   "cell_type": "code",
   "execution_count": 22,
   "metadata": {},
   "outputs": [],
   "source": [
    "data = pandas.DataFrame(list(map(\n",
    "    lambda game_stats: game_stats[\"stats\"].get(player),\n",
    "    filter(\n",
    "        lambda game_stats: player in game_stats[\"stats\"],\n",
    "        all_game_stats))),\n",
    "    columns=[\"MIN\", \"FGM-A\", \"3PM-A\", \"PTS\"])\n",
    "data[\"Game\"] = data.apply(lambda r: r.name + 1, axis=1)\n",
    "data[\"FGM\"] = data.apply(lambda r: int(r[\"FGM-A\"].split(\"-\")[0]), axis=1)\n",
    "data[\"FGA\"] = data.apply(lambda r: int(r[\"FGM-A\"].split(\"-\")[1]), axis=1)\n",
    "data[\"FG%\"] = data.apply(lambda r: r[\"FGM\"] / r[\"FGA\"] if r[\"FGA\"] != 0 else None, axis=1)\n",
    "data[\"3PM\"] = data.apply(lambda r: int(r[\"3PM-A\"].split(\"-\")[0]), axis=1)\n",
    "data[\"3PA\"] = data.apply(lambda r: int(r[\"3PM-A\"].split(\"-\")[1]), axis=1)\n",
    "data[\"3P%\"] = data.apply(lambda r: r[\"3PM\"] / r[\"3PA\"] if r[\"3PA\"] != 0 else None, axis=1)\n",
    "data = data.drop(columns=[\"FGM-A\", \"3PM-A\"])"
   ]
  },
  {
   "cell_type": "code",
   "execution_count": 23,
   "metadata": {},
   "outputs": [
    {
     "data": {
      "text/html": [
       "<div>\n",
       "<style scoped>\n",
       "    .dataframe tbody tr th:only-of-type {\n",
       "        vertical-align: middle;\n",
       "    }\n",
       "\n",
       "    .dataframe tbody tr th {\n",
       "        vertical-align: top;\n",
       "    }\n",
       "\n",
       "    .dataframe thead th {\n",
       "        text-align: right;\n",
       "    }\n",
       "</style>\n",
       "<table border=\"1\" class=\"dataframe\">\n",
       "  <thead>\n",
       "    <tr style=\"text-align: right;\">\n",
       "      <th></th>\n",
       "      <th>MIN</th>\n",
       "      <th>PTS</th>\n",
       "      <th>Game</th>\n",
       "      <th>FGM</th>\n",
       "      <th>FGA</th>\n",
       "      <th>FG%</th>\n",
       "      <th>3PM</th>\n",
       "      <th>3PA</th>\n",
       "      <th>3P%</th>\n",
       "    </tr>\n",
       "  </thead>\n",
       "  <tbody>\n",
       "    <tr>\n",
       "      <th>0</th>\n",
       "      <td>30</td>\n",
       "      <td>10</td>\n",
       "      <td>1</td>\n",
       "      <td>3</td>\n",
       "      <td>8</td>\n",
       "      <td>0.375000</td>\n",
       "      <td>2</td>\n",
       "      <td>4</td>\n",
       "      <td>0.500000</td>\n",
       "    </tr>\n",
       "    <tr>\n",
       "      <th>1</th>\n",
       "      <td>36</td>\n",
       "      <td>17</td>\n",
       "      <td>2</td>\n",
       "      <td>7</td>\n",
       "      <td>13</td>\n",
       "      <td>0.538462</td>\n",
       "      <td>3</td>\n",
       "      <td>6</td>\n",
       "      <td>0.500000</td>\n",
       "    </tr>\n",
       "    <tr>\n",
       "      <th>2</th>\n",
       "      <td>32</td>\n",
       "      <td>11</td>\n",
       "      <td>3</td>\n",
       "      <td>1</td>\n",
       "      <td>7</td>\n",
       "      <td>0.142857</td>\n",
       "      <td>1</td>\n",
       "      <td>5</td>\n",
       "      <td>0.200000</td>\n",
       "    </tr>\n",
       "    <tr>\n",
       "      <th>3</th>\n",
       "      <td>34</td>\n",
       "      <td>19</td>\n",
       "      <td>4</td>\n",
       "      <td>8</td>\n",
       "      <td>15</td>\n",
       "      <td>0.533333</td>\n",
       "      <td>2</td>\n",
       "      <td>5</td>\n",
       "      <td>0.400000</td>\n",
       "    </tr>\n",
       "    <tr>\n",
       "      <th>4</th>\n",
       "      <td>30</td>\n",
       "      <td>13</td>\n",
       "      <td>5</td>\n",
       "      <td>3</td>\n",
       "      <td>9</td>\n",
       "      <td>0.333333</td>\n",
       "      <td>3</td>\n",
       "      <td>4</td>\n",
       "      <td>0.750000</td>\n",
       "    </tr>\n",
       "    <tr>\n",
       "      <th>5</th>\n",
       "      <td>25</td>\n",
       "      <td>7</td>\n",
       "      <td>6</td>\n",
       "      <td>3</td>\n",
       "      <td>7</td>\n",
       "      <td>0.428571</td>\n",
       "      <td>0</td>\n",
       "      <td>2</td>\n",
       "      <td>0.000000</td>\n",
       "    </tr>\n",
       "    <tr>\n",
       "      <th>6</th>\n",
       "      <td>28</td>\n",
       "      <td>2</td>\n",
       "      <td>7</td>\n",
       "      <td>1</td>\n",
       "      <td>4</td>\n",
       "      <td>0.250000</td>\n",
       "      <td>0</td>\n",
       "      <td>2</td>\n",
       "      <td>0.000000</td>\n",
       "    </tr>\n",
       "    <tr>\n",
       "      <th>7</th>\n",
       "      <td>26</td>\n",
       "      <td>13</td>\n",
       "      <td>8</td>\n",
       "      <td>5</td>\n",
       "      <td>9</td>\n",
       "      <td>0.555556</td>\n",
       "      <td>2</td>\n",
       "      <td>5</td>\n",
       "      <td>0.400000</td>\n",
       "    </tr>\n",
       "    <tr>\n",
       "      <th>8</th>\n",
       "      <td>27</td>\n",
       "      <td>11</td>\n",
       "      <td>9</td>\n",
       "      <td>5</td>\n",
       "      <td>7</td>\n",
       "      <td>0.714286</td>\n",
       "      <td>1</td>\n",
       "      <td>1</td>\n",
       "      <td>1.000000</td>\n",
       "    </tr>\n",
       "    <tr>\n",
       "      <th>9</th>\n",
       "      <td>37</td>\n",
       "      <td>11</td>\n",
       "      <td>10</td>\n",
       "      <td>4</td>\n",
       "      <td>7</td>\n",
       "      <td>0.571429</td>\n",
       "      <td>1</td>\n",
       "      <td>3</td>\n",
       "      <td>0.333333</td>\n",
       "    </tr>\n",
       "    <tr>\n",
       "      <th>10</th>\n",
       "      <td>36</td>\n",
       "      <td>15</td>\n",
       "      <td>11</td>\n",
       "      <td>6</td>\n",
       "      <td>12</td>\n",
       "      <td>0.500000</td>\n",
       "      <td>2</td>\n",
       "      <td>5</td>\n",
       "      <td>0.400000</td>\n",
       "    </tr>\n",
       "    <tr>\n",
       "      <th>11</th>\n",
       "      <td>29</td>\n",
       "      <td>6</td>\n",
       "      <td>12</td>\n",
       "      <td>3</td>\n",
       "      <td>5</td>\n",
       "      <td>0.600000</td>\n",
       "      <td>0</td>\n",
       "      <td>1</td>\n",
       "      <td>0.000000</td>\n",
       "    </tr>\n",
       "    <tr>\n",
       "      <th>12</th>\n",
       "      <td>31</td>\n",
       "      <td>17</td>\n",
       "      <td>13</td>\n",
       "      <td>5</td>\n",
       "      <td>9</td>\n",
       "      <td>0.555556</td>\n",
       "      <td>3</td>\n",
       "      <td>4</td>\n",
       "      <td>0.750000</td>\n",
       "    </tr>\n",
       "    <tr>\n",
       "      <th>13</th>\n",
       "      <td>31</td>\n",
       "      <td>18</td>\n",
       "      <td>14</td>\n",
       "      <td>5</td>\n",
       "      <td>10</td>\n",
       "      <td>0.500000</td>\n",
       "      <td>2</td>\n",
       "      <td>5</td>\n",
       "      <td>0.400000</td>\n",
       "    </tr>\n",
       "    <tr>\n",
       "      <th>14</th>\n",
       "      <td>38</td>\n",
       "      <td>19</td>\n",
       "      <td>15</td>\n",
       "      <td>7</td>\n",
       "      <td>13</td>\n",
       "      <td>0.538462</td>\n",
       "      <td>1</td>\n",
       "      <td>5</td>\n",
       "      <td>0.200000</td>\n",
       "    </tr>\n",
       "    <tr>\n",
       "      <th>15</th>\n",
       "      <td>26</td>\n",
       "      <td>9</td>\n",
       "      <td>16</td>\n",
       "      <td>4</td>\n",
       "      <td>7</td>\n",
       "      <td>0.571429</td>\n",
       "      <td>1</td>\n",
       "      <td>3</td>\n",
       "      <td>0.333333</td>\n",
       "    </tr>\n",
       "    <tr>\n",
       "      <th>16</th>\n",
       "      <td>21</td>\n",
       "      <td>9</td>\n",
       "      <td>17</td>\n",
       "      <td>4</td>\n",
       "      <td>6</td>\n",
       "      <td>0.666667</td>\n",
       "      <td>1</td>\n",
       "      <td>1</td>\n",
       "      <td>1.000000</td>\n",
       "    </tr>\n",
       "    <tr>\n",
       "      <th>17</th>\n",
       "      <td>36</td>\n",
       "      <td>13</td>\n",
       "      <td>18</td>\n",
       "      <td>4</td>\n",
       "      <td>10</td>\n",
       "      <td>0.400000</td>\n",
       "      <td>2</td>\n",
       "      <td>5</td>\n",
       "      <td>0.400000</td>\n",
       "    </tr>\n",
       "    <tr>\n",
       "      <th>18</th>\n",
       "      <td>32</td>\n",
       "      <td>12</td>\n",
       "      <td>19</td>\n",
       "      <td>4</td>\n",
       "      <td>8</td>\n",
       "      <td>0.500000</td>\n",
       "      <td>1</td>\n",
       "      <td>3</td>\n",
       "      <td>0.333333</td>\n",
       "    </tr>\n",
       "    <tr>\n",
       "      <th>19</th>\n",
       "      <td>26</td>\n",
       "      <td>10</td>\n",
       "      <td>20</td>\n",
       "      <td>4</td>\n",
       "      <td>8</td>\n",
       "      <td>0.500000</td>\n",
       "      <td>0</td>\n",
       "      <td>1</td>\n",
       "      <td>0.000000</td>\n",
       "    </tr>\n",
       "    <tr>\n",
       "      <th>20</th>\n",
       "      <td>27</td>\n",
       "      <td>6</td>\n",
       "      <td>21</td>\n",
       "      <td>2</td>\n",
       "      <td>5</td>\n",
       "      <td>0.400000</td>\n",
       "      <td>1</td>\n",
       "      <td>2</td>\n",
       "      <td>0.500000</td>\n",
       "    </tr>\n",
       "    <tr>\n",
       "      <th>21</th>\n",
       "      <td>47</td>\n",
       "      <td>17</td>\n",
       "      <td>22</td>\n",
       "      <td>7</td>\n",
       "      <td>9</td>\n",
       "      <td>0.777778</td>\n",
       "      <td>1</td>\n",
       "      <td>2</td>\n",
       "      <td>0.500000</td>\n",
       "    </tr>\n",
       "    <tr>\n",
       "      <th>22</th>\n",
       "      <td>28</td>\n",
       "      <td>15</td>\n",
       "      <td>23</td>\n",
       "      <td>5</td>\n",
       "      <td>9</td>\n",
       "      <td>0.555556</td>\n",
       "      <td>0</td>\n",
       "      <td>2</td>\n",
       "      <td>0.000000</td>\n",
       "    </tr>\n",
       "    <tr>\n",
       "      <th>23</th>\n",
       "      <td>24</td>\n",
       "      <td>9</td>\n",
       "      <td>24</td>\n",
       "      <td>4</td>\n",
       "      <td>9</td>\n",
       "      <td>0.444444</td>\n",
       "      <td>1</td>\n",
       "      <td>4</td>\n",
       "      <td>0.250000</td>\n",
       "    </tr>\n",
       "    <tr>\n",
       "      <th>24</th>\n",
       "      <td>38</td>\n",
       "      <td>30</td>\n",
       "      <td>25</td>\n",
       "      <td>11</td>\n",
       "      <td>17</td>\n",
       "      <td>0.647059</td>\n",
       "      <td>4</td>\n",
       "      <td>7</td>\n",
       "      <td>0.571429</td>\n",
       "    </tr>\n",
       "    <tr>\n",
       "      <th>25</th>\n",
       "      <td>34</td>\n",
       "      <td>6</td>\n",
       "      <td>26</td>\n",
       "      <td>2</td>\n",
       "      <td>6</td>\n",
       "      <td>0.333333</td>\n",
       "      <td>0</td>\n",
       "      <td>1</td>\n",
       "      <td>0.000000</td>\n",
       "    </tr>\n",
       "    <tr>\n",
       "      <th>26</th>\n",
       "      <td>29</td>\n",
       "      <td>19</td>\n",
       "      <td>27</td>\n",
       "      <td>7</td>\n",
       "      <td>13</td>\n",
       "      <td>0.538462</td>\n",
       "      <td>1</td>\n",
       "      <td>3</td>\n",
       "      <td>0.333333</td>\n",
       "    </tr>\n",
       "    <tr>\n",
       "      <th>27</th>\n",
       "      <td>17</td>\n",
       "      <td>5</td>\n",
       "      <td>28</td>\n",
       "      <td>2</td>\n",
       "      <td>3</td>\n",
       "      <td>0.666667</td>\n",
       "      <td>1</td>\n",
       "      <td>2</td>\n",
       "      <td>0.500000</td>\n",
       "    </tr>\n",
       "    <tr>\n",
       "      <th>28</th>\n",
       "      <td>34</td>\n",
       "      <td>16</td>\n",
       "      <td>29</td>\n",
       "      <td>4</td>\n",
       "      <td>8</td>\n",
       "      <td>0.500000</td>\n",
       "      <td>1</td>\n",
       "      <td>3</td>\n",
       "      <td>0.333333</td>\n",
       "    </tr>\n",
       "    <tr>\n",
       "      <th>29</th>\n",
       "      <td>23</td>\n",
       "      <td>7</td>\n",
       "      <td>30</td>\n",
       "      <td>3</td>\n",
       "      <td>8</td>\n",
       "      <td>0.375000</td>\n",
       "      <td>1</td>\n",
       "      <td>3</td>\n",
       "      <td>0.333333</td>\n",
       "    </tr>\n",
       "    <tr>\n",
       "      <th>30</th>\n",
       "      <td>22</td>\n",
       "      <td>6</td>\n",
       "      <td>31</td>\n",
       "      <td>3</td>\n",
       "      <td>8</td>\n",
       "      <td>0.375000</td>\n",
       "      <td>0</td>\n",
       "      <td>1</td>\n",
       "      <td>0.000000</td>\n",
       "    </tr>\n",
       "    <tr>\n",
       "      <th>31</th>\n",
       "      <td>32</td>\n",
       "      <td>9</td>\n",
       "      <td>32</td>\n",
       "      <td>3</td>\n",
       "      <td>11</td>\n",
       "      <td>0.272727</td>\n",
       "      <td>1</td>\n",
       "      <td>4</td>\n",
       "      <td>0.250000</td>\n",
       "    </tr>\n",
       "    <tr>\n",
       "      <th>32</th>\n",
       "      <td>13</td>\n",
       "      <td>3</td>\n",
       "      <td>33</td>\n",
       "      <td>1</td>\n",
       "      <td>2</td>\n",
       "      <td>0.500000</td>\n",
       "      <td>0</td>\n",
       "      <td>1</td>\n",
       "      <td>0.000000</td>\n",
       "    </tr>\n",
       "    <tr>\n",
       "      <th>33</th>\n",
       "      <td>11</td>\n",
       "      <td>0</td>\n",
       "      <td>34</td>\n",
       "      <td>0</td>\n",
       "      <td>3</td>\n",
       "      <td>0.000000</td>\n",
       "      <td>0</td>\n",
       "      <td>1</td>\n",
       "      <td>0.000000</td>\n",
       "    </tr>\n",
       "    <tr>\n",
       "      <th>34</th>\n",
       "      <td>8</td>\n",
       "      <td>2</td>\n",
       "      <td>35</td>\n",
       "      <td>1</td>\n",
       "      <td>1</td>\n",
       "      <td>1.000000</td>\n",
       "      <td>0</td>\n",
       "      <td>0</td>\n",
       "      <td>NaN</td>\n",
       "    </tr>\n",
       "    <tr>\n",
       "      <th>35</th>\n",
       "      <td>13</td>\n",
       "      <td>2</td>\n",
       "      <td>36</td>\n",
       "      <td>1</td>\n",
       "      <td>5</td>\n",
       "      <td>0.200000</td>\n",
       "      <td>0</td>\n",
       "      <td>2</td>\n",
       "      <td>0.000000</td>\n",
       "    </tr>\n",
       "    <tr>\n",
       "      <th>36</th>\n",
       "      <td>2</td>\n",
       "      <td>0</td>\n",
       "      <td>37</td>\n",
       "      <td>0</td>\n",
       "      <td>2</td>\n",
       "      <td>0.000000</td>\n",
       "      <td>0</td>\n",
       "      <td>1</td>\n",
       "      <td>0.000000</td>\n",
       "    </tr>\n",
       "  </tbody>\n",
       "</table>\n",
       "</div>"
      ],
      "text/plain": [
       "   MIN PTS  Game  FGM  FGA       FG%  3PM  3PA       3P%\n",
       "0   30  10     1    3    8  0.375000    2    4  0.500000\n",
       "1   36  17     2    7   13  0.538462    3    6  0.500000\n",
       "2   32  11     3    1    7  0.142857    1    5  0.200000\n",
       "3   34  19     4    8   15  0.533333    2    5  0.400000\n",
       "4   30  13     5    3    9  0.333333    3    4  0.750000\n",
       "5   25   7     6    3    7  0.428571    0    2  0.000000\n",
       "6   28   2     7    1    4  0.250000    0    2  0.000000\n",
       "7   26  13     8    5    9  0.555556    2    5  0.400000\n",
       "8   27  11     9    5    7  0.714286    1    1  1.000000\n",
       "9   37  11    10    4    7  0.571429    1    3  0.333333\n",
       "10  36  15    11    6   12  0.500000    2    5  0.400000\n",
       "11  29   6    12    3    5  0.600000    0    1  0.000000\n",
       "12  31  17    13    5    9  0.555556    3    4  0.750000\n",
       "13  31  18    14    5   10  0.500000    2    5  0.400000\n",
       "14  38  19    15    7   13  0.538462    1    5  0.200000\n",
       "15  26   9    16    4    7  0.571429    1    3  0.333333\n",
       "16  21   9    17    4    6  0.666667    1    1  1.000000\n",
       "17  36  13    18    4   10  0.400000    2    5  0.400000\n",
       "18  32  12    19    4    8  0.500000    1    3  0.333333\n",
       "19  26  10    20    4    8  0.500000    0    1  0.000000\n",
       "20  27   6    21    2    5  0.400000    1    2  0.500000\n",
       "21  47  17    22    7    9  0.777778    1    2  0.500000\n",
       "22  28  15    23    5    9  0.555556    0    2  0.000000\n",
       "23  24   9    24    4    9  0.444444    1    4  0.250000\n",
       "24  38  30    25   11   17  0.647059    4    7  0.571429\n",
       "25  34   6    26    2    6  0.333333    0    1  0.000000\n",
       "26  29  19    27    7   13  0.538462    1    3  0.333333\n",
       "27  17   5    28    2    3  0.666667    1    2  0.500000\n",
       "28  34  16    29    4    8  0.500000    1    3  0.333333\n",
       "29  23   7    30    3    8  0.375000    1    3  0.333333\n",
       "30  22   6    31    3    8  0.375000    0    1  0.000000\n",
       "31  32   9    32    3   11  0.272727    1    4  0.250000\n",
       "32  13   3    33    1    2  0.500000    0    1  0.000000\n",
       "33  11   0    34    0    3  0.000000    0    1  0.000000\n",
       "34   8   2    35    1    1  1.000000    0    0       NaN\n",
       "35  13   2    36    1    5  0.200000    0    2  0.000000\n",
       "36   2   0    37    0    2  0.000000    0    1  0.000000"
      ]
     },
     "execution_count": 23,
     "metadata": {},
     "output_type": "execute_result"
    }
   ],
   "source": [
    "data\n",
    "# Use data.to_csv() for quick export"
   ]
  },
  {
   "cell_type": "code",
   "execution_count": 24,
   "metadata": {},
   "outputs": [
    {
     "data": {
      "image/png": "[encoded data removed]",
      "text/plain": [
       "<Figure size 432x288 with 1 Axes>"
      ]
     },
     "metadata": {},
     "output_type": "display_data"
    }
   ],
   "source": [
    "stat = \"3P%\"\n",
    "plot = seaborn.regplot(\"Game\", stat, data=data)\n",
    "plot.set_title(\"{} - {}\".format(player, stat))\n",
    "plot.set_ylim(-0.05, 1.05)\n",
    "None"
   ]
  },
  {
   "cell_type": "code",
   "execution_count": 25,
   "metadata": {},
   "outputs": [
    {
     "data": {
      "image/png": "[encoded data removed]",
      "text/plain": [
       "<Figure size 432x288 with 1 Axes>"
      ]
     },
     "metadata": {},
     "output_type": "display_data"
    }
   ],
   "source": [
    "stat = \"FG%\"\n",
    "plot = seaborn.regplot(\"Game\", stat, data=data)\n",
    "plot.set_title(\"{} - {}\".format(player, stat))\n",
    "plot.set_ylim(-0.05, 1.05)\n",
    "None"
   ]
  },
  {
   "cell_type": "code",
   "execution_count": null,
   "metadata": {},
   "outputs": [],
   "source": []
  }
 ],
 "metadata": {
  "kernelspec": {
   "display_name": "Python 3",
   "language": "python",
   "name": "python3"
  },
  "language_info": {
   "codemirror_mode": {
    "name": "ipython",
    "version": 3
   },
   "file_extension": ".py",
   "mimetype": "text/x-python",
   "name": "python",
   "nbconvert_exporter": "python",
   "pygments_lexer": "ipython3",
   "version": "3.6.4"
  }
 },
 "nbformat": 4,
 "nbformat_minor": 2
}
